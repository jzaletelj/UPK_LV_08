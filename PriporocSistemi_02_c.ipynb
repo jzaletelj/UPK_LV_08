{
 "cells": [
  {
   "cell_type": "markdown",
   "metadata": {},
   "source": [
    "## Priporočilni sistem - podobni uporabniki (Collaborative filtering)\n",
    "\n"
   ]
  },
  {
   "cell_type": "code",
   "execution_count": 1,
   "metadata": {
    "collapsed": true,
    "pycharm": {
     "is_executing": false
    }
   },
   "outputs": [],
   "source": [
    "import numpy as np\n",
    "import pandas as pd\n",
    "import sklearn.cross_decomposition"
   ]
  },
  {
   "cell_type": "markdown",
   "metadata": {
    "collapsed": false
   },
   "source": [
    "### 1. Beri podatke o ocenah iz datoteke\n",
    "\n",
    "Opis podatkovnega seta je : [link](http://files.grouplens.org/datasets/movielens/ml-100k-README.txt).\n"
   ]
  },
  {
   "cell_type": "code",
   "execution_count": 2,
   "metadata": {
    "collapsed": false,
    "pycharm": {
     "is_executing": false
    }
   },
   "outputs": [],
   "source": [
    "column_names = ['user_id', 'item_id', 'rating', 'timestamp']\n",
    "df = pd.read_csv('u.data', sep='\\t', names=column_names)"
   ]
  },
  {
   "cell_type": "markdown",
   "metadata": {},
   "source": [
    "Pregled podatkov:"
   ]
  },
  {
   "cell_type": "code",
   "execution_count": 3,
   "metadata": {
    "collapsed": false,
    "pycharm": {
     "is_executing": false
    }
   },
   "outputs": [],
   "source": [
    "#df.head()"
   ]
  },
  {
   "cell_type": "markdown",
   "metadata": {},
   "source": [
    "Lahko dodamo naslove filmom:"
   ]
  },
  {
   "cell_type": "code",
   "execution_count": 4,
   "metadata": {
    "collapsed": false,
    "pycharm": {
     "is_executing": false
    }
   },
   "outputs": [],
   "source": [
    "movie_titles = pd.read_csv(\"Movie_Id_Titles\")\n",
    "#movie_titles.head()"
   ]
  },
  {
   "cell_type": "markdown",
   "metadata": {},
   "source": [
    "Then merge the dataframes:"
   ]
  },
  {
   "cell_type": "code",
   "execution_count": 5,
   "metadata": {
    "collapsed": false,
    "pycharm": {
     "is_executing": false
    }
   },
   "outputs": [
    {
     "name": "stdout",
     "text": [
      "(100003, 5)\n"
     ],
     "output_type": "stream"
    }
   ],
   "source": [
    "df = pd.merge(df,movie_titles,on='item_id')\n",
    "print(df.shape)\n",
    "#df.head()"
   ]
  },
  {
   "cell_type": "markdown",
   "metadata": {},
   "source": [
    "#### Vpr 1.\n",
    "Ugotovi, koliko je ocen, koliko uporabnikov in koliko filmov."
   ]
  },
  {
   "cell_type": "code",
   "execution_count": 6,
   "metadata": {
    "collapsed": false,
    "pycharm": {
     "is_executing": false
    }
   },
   "outputs": [],
   "source": [
    "n_users = df.user_id.nunique()\n",
    "n_items = df.item_id.nunique()"
   ]
  },
  {
   "cell_type": "markdown",
   "source": [
    "#### Sortiramo podatke po uporabnikih\n"
   ],
   "metadata": {
    "collapsed": false
   }
  },
  {
   "cell_type": "code",
   "execution_count": 7,
   "outputs": [
    {
     "data": {
      "text/plain": "user_id\n0        3\n1      272\n2       62\n3       54\n4       24\n      ... \n939     49\n940    107\n941     22\n942     79\n943    168\nName: user_id, Length: 944, dtype: int64"
     },
     "metadata": {},
     "output_type": "execute_result",
     "execution_count": 7
    }
   ],
   "source": [
    "# Kaj prestejemo tukaj ?\n",
    "df.groupby('user_id')['user_id'].count()"
   ],
   "metadata": {
    "collapsed": false,
    "pycharm": {
     "name": "#%%\n",
     "is_executing": false
    }
   }
  },
  {
   "cell_type": "code",
   "execution_count": 8,
   "outputs": [],
   "source": [
    "# Ugotovite delovanje\n",
    "# Uporabniki z najvec ocenami\n",
    "series_user_nratings = df.groupby('user_id')['user_id'].count()\n",
    "\n",
    "#series_user_nratings \n",
    "#series_user_nratings.values\n",
    "\n",
    "# Sortirani podatki po user IDju\n",
    "df4 = df.sort_values('user_id')\n",
    "\n",
    "id_vsi = series_user_nratings.values\n",
    "id100 = series_user_nratings.values[0:100]\n",
    "\n",
    "indeksi_df = df['user_id'].isin(id100)\n",
    "\n",
    "# Nova serija podatkov\n",
    "df5 = df.loc[indeksi_df]"
   ],
   "metadata": {
    "collapsed": false,
    "pycharm": {
     "name": "#%%\n",
     "is_executing": false
    }
   }
  },
  {
   "cell_type": "markdown",
   "source": [
    "#### Vpr 2.\n",
    "Kakšne podatke predstavlja df5 in kako smo jih dobili ? "
   ],
   "metadata": {
    "collapsed": false
   }
  },
  {
   "cell_type": "markdown",
   "metadata": {},
   "source": [
    "### Training podatki\n",
    "\n",
    "Podatke običajno razdelimo na učno in testno množico. \n",
    "Uporabljali bomo samo učno množico. "
   ]
  },
  {
   "cell_type": "code",
   "execution_count": 22,
   "metadata": {
    "collapsed": false,
    "pycharm": {
     "is_executing": false
    }
   },
   "outputs": [],
   "source": [
    "#from sklearn.model_selection import train_test_split\n",
    "#train_data, test_data = train_test_split(df, test_size=0.25)\n",
    "\n",
    "# Podatki so naši originalni podatki\n",
    "train_data = df;\n",
    "\n",
    "n_users = train_data.user_id.nunique()\n",
    "n_items = train_data.item_id.nunique()\n",
    "\n",
    "#print('Num. of Users: '+ str(n_users))\n",
    "#print('Num of Movies: '+ str(n_items))\n"
   ]
  },
  {
   "cell_type": "markdown",
   "metadata": {},
   "source": [
    "Metoda, ki 0 nadomesti z NaN."
   ]
  },
  {
   "cell_type": "code",
   "execution_count": 11,
   "outputs": [],
   "source": [
    "def replaceZero(input_arr):\n",
    "    out_arr = np.copy(input_arr)\n",
    "    out_arr[out_arr == 0.0] = np.NaN\n",
    "    return out_arr"
   ],
   "metadata": {
    "collapsed": false,
    "pycharm": {
     "name": "#%%\n",
     "is_executing": false
    }
   }
  },
  {
   "cell_type": "markdown",
   "source": [
    "Kreiramo matriko uporabniških ocen filmov. Oglej si obe matriki. "
   ],
   "metadata": {
    "collapsed": false,
    "pycharm": {
     "name": "#%% md\n",
     "is_executing": false
    }
   }
  },
  {
   "cell_type": "code",
   "execution_count": 12,
   "outputs": [],
   "source": [
    "#Create two user-item matrices, one for training and another for testing\n",
    "train_data_matrix = np.zeros((n_users, n_items))\n",
    "for line in train_data.itertuples():\n",
    "    train_data_matrix[line[1]-1, line[2]-1] = line[3]  \n",
    "\n",
    "train_data_2 = replaceZero(train_data_matrix)\n"
   ],
   "metadata": {
    "collapsed": false,
    "pycharm": {
     "name": "#%%\n",
     "is_executing": false
    }
   }
  },
  {
   "cell_type": "markdown",
   "source": [
    "#### Vpr 3.\n",
    "Preizkusi in ugotovi, kakšne podatke generira naslednja koda (velikost, kaj vsebujejo)? "
   ],
   "metadata": {
    "collapsed": false
   }
  },
  {
   "cell_type": "code",
   "execution_count": 13,
   "outputs": [],
   "source": [
    "# Sortiraj po vsoti ocen za uporabnika\n",
    "sm = train_data_matrix.sum(axis = 1)\n",
    "sm.shape\n",
    "sort_ind = np.argsort(-sm)\n",
    "sm2 = sm[sort_ind]\n",
    "\n",
    "# \n",
    "train_data_3 = train_data_2[sort_ind,:]\n",
    "# \n",
    "train_data_4 = train_data_3[0:100,:]"
   ],
   "metadata": {
    "collapsed": false,
    "pycharm": {
     "name": "#%%\n",
     "is_executing": false
    }
   }
  },
  {
   "cell_type": "markdown",
   "source": [
    "#### Vpr 4.\n",
    "Preizkusi z različnimi vrednostmi in ugotovi, kaj izračunamo? "
   ],
   "metadata": {
    "collapsed": false,
    "pycharm": {
     "name": "#%% md\n",
     "is_executing": false
    }
   }
  },
  {
   "cell_type": "code",
   "execution_count": 14,
   "metadata": {
    "collapsed": false,
    "pycharm": {
     "is_executing": false
    }
   },
   "outputs": [],
   "source": [
    "from scipy.stats import pearsonr\n",
    "\n",
    "# Kako izracunamo korelacijo med dvema uporabnikoma ?\n",
    "\n",
    "ur_1 = train_data_4[0,:]\n",
    "ur_2 = train_data_4[3,:]\n",
    "mask = ~np.isnan(ur_1) & ~np.isnan(ur_2)  \n",
    "corr, _ = pearsonr(ur_1[mask],ur_2[mask])\n"
   ]
  },
  {
   "cell_type": "code",
   "execution_count": 15,
   "outputs": [],
   "source": [
    "# Metoda za podobnost\n",
    "def calcPearson(data_matr):\n",
    "    pears = np.zeros([data_matr.shape[0],data_matr.shape[0]])\n",
    "    for j in range(0, data_matr.shape[0]):\n",
    "        for i in range(j, data_matr.shape[0]):\n",
    "            pears[j,i] = np.nan;  # default value\n",
    "            mask = ~np.isnan(data_matr[j,:]) & ~np.isnan(data_matr[i,:])\n",
    "            if sum(mask) >= 2:\n",
    "                pears[j,i], _ = pearsonr(data_matr[j,mask],data_matr[i,mask])\n",
    "            pears[i,j] = pears[j,i];\n",
    "        pears[j,j] = 0.0\n",
    "    return pears\n",
    "\n",
    "#def user_simil = calcPearson(data_matr):"
   ],
   "metadata": {
    "collapsed": false,
    "pycharm": {
     "name": "#%%\n",
     "is_executing": false
    }
   }
  },
  {
   "cell_type": "markdown",
   "source": [
    "#### Vpr 5.\n",
    "Uporabi metodo za izračun korelacije na naših podatkih. Preglej rezultat, velikost in \n",
    "vrednosti v dobljeni matriki.\n",
    "  "
   ],
   "metadata": {
    "collapsed": false
   }
  },
  {
   "cell_type": "code",
   "execution_count": 16,
   "outputs": [],
   "source": [
    "# Izracunaj pears_cor\n",
    "pears_cor = calcPearson(train_data_4)\n"
   ],
   "metadata": {
    "collapsed": false,
    "pycharm": {
     "name": "#%%\n",
     "is_executing": false
    }
   }
  },
  {
   "cell_type": "markdown",
   "metadata": {},
   "source": [
    "### Izračun napovedi ocen za enega uporabnika\n",
    "\n",
    "Enačba:\n",
    "\n",
    "<img class=\"aligncenter size-thumbnail img-responsive\" src=\"https://latex.codecogs.com/gif.latex?\\hat{x}_{k,m}&space;=&space;\\bar{x}_{k}&space;&plus;&space;\\frac{\\sum\\limits_{u_a}&space;sim_u(u_k,&space;u_a)&space;(x_{a,m}&space;-&space;\\bar{x_{u_a}})}{\\sum\\limits_{u_a}|sim_u(u_k,&space;u_a)|}\"/>"
   ]
  },
  {
   "cell_type": "code",
   "execution_count": 17,
   "metadata": {
    "collapsed": true,
    "pycharm": {
     "is_executing": false
    }
   },
   "outputs": [],
   "source": [
    "# Postopek \n",
    "\n",
    "# Uporabljali bomo to spremenljivko\n",
    "user_similarity = np.copy(pears_cor);\n",
    "\n",
    "# Povprecni rating uporabnika\n",
    "mean_user_rating = np.nanmean(train_data_4, axis=1)\n",
    "# Povpr rating kot stolpcni vektor\n",
    "c3 = mean_user_rating[:, np.newaxis]\n",
    "# Razlika rating - povprecje, vsebuje nan\n",
    "ratings_diff = (train_data_4 - mean_user_rating[:, np.newaxis]) \n",
    "# Relativni ratnig, vsebuje 0 kjer ni ocene\n",
    "rel_ratings = np.nan_to_num(ratings_diff)\n",
    "\n",
    "# Podobnost z upor. 0\n",
    "usr1 = user_similarity[:,0]\n",
    "# Kaj pomeni ?\n",
    "c2 = usr1.dot(rel_ratings)\n",
    "# Rezultat\n",
    "c4 = c2 / np.array([np.abs(usr1).sum()]).T\n"
   ]
  },
  {
   "cell_type": "markdown",
   "source": [
    "#### Vpr 6.\n",
    "Opiši postopek zgoraj za enega uporabnika. Kaj je rezultat ? Dopolni postopek glede na enačbo."
   ],
   "metadata": {
    "collapsed": false
   }
  },
  {
   "cell_type": "markdown",
   "source": [
    "### Za vse uporabnike\n",
    "Preizkusi in komentiraj postopek. "
   ],
   "metadata": {
    "collapsed": false
   }
  },
  {
   "cell_type": "code",
   "execution_count": 18,
   "outputs": [],
   "source": [
    "i1 = pears_cor[:,:] < 0.0\n",
    "\n",
    "user_similarity = np.copy(pears_cor);\n",
    "user_similarity[i1] = 0.0\n",
    "\n",
    "# To so zdaj vsote abs vrednosti podobnih userjev za vsakega userja\n",
    "c5 = np.array([np.abs(user_similarity).sum(axis = 0)]).T\n",
    "\n",
    "# Kaj je to?\n",
    "calc1 = user_similarity.dot(rel_ratings) # / np.array([np.abs(user_similarity).sum(axis=1)]).T\n",
    "\n",
    "# ?\n",
    "calc2 = calc1 / c5\n",
    "\n",
    "# ? \n",
    "calc3 = calc2 + c3"
   ],
   "metadata": {
    "collapsed": false,
    "pycharm": {
     "name": "#%%\n",
     "is_executing": false
    }
   }
  },
  {
   "cell_type": "markdown",
   "source": [
    "#### Vpr 7.\n",
    "Kakšen rezultat dobiš za vse uporabnike ? Kaj bo v primeru, če podobnost med uporabnikom ne obstaja ?\n",
    "\n"
   ],
   "metadata": {
    "collapsed": false,
    "pycharm": {
     "name": "#%% md\n",
     "is_executing": false
    }
   }
  },
  {
   "cell_type": "markdown",
   "source": [
    "#### Dodatna naloga 1\n",
    "Izračunaj matriko z napakami predvidenih ocen. Izriši histogram teh napak. \n"
   ],
   "metadata": {
    "collapsed": false
   }
  },
  {
   "cell_type": "markdown",
   "source": [
    "### Evalvacija pravilnosti napovedi sistema\n",
    "\n",
    "Najpomembnejše merilo za pravilnost napovedi je srednja kvadr. napaka: *Root Mean Squared Error (RMSE)*.\n",
    " \n",
    "<img src=\"https://latex.codecogs.com/gif.latex?RMSE&space;=\\sqrt{\\frac{1}{N}&space;\\sum&space;(x_i&space;-\\hat{x_i})^2}\" title=\"RMSE =\\sqrt{\\frac{1}{N} \\sum (x_i -\\hat{x_i})^2}\" />\n",
    "\n",
    "Uporabimo funkcijo [mean_square_error](http://scikit-learn.org/stable/modules/generated/sklearn.metrics.mean_squared_error.html) \n",
    "iz `sklearn`. \n",
    "\n",
    "Druga merila so tukaj [link](http://research.microsoft.com/pubs/115396/EvaluationMetrics.TR.pdf). "
   ],
   "metadata": {
    "collapsed": false
   }
  },
  {
   "cell_type": "code",
   "execution_count": 19,
   "outputs": [],
   "source": [
    "from sklearn.metrics import mean_squared_error\n",
    "from math import sqrt\n",
    "\n",
    "def rmse(prediction, ground_truth):\n",
    "    \n",
    "    ground_tr_2 = np.nan_to_num(ground_truth);\n",
    "    prediction2 = np.nan_to_num(prediction);\n",
    "    pred_valid = prediction2[:,0] > 0.0;\n",
    "\n",
    "    # samo veljavne vrstice kjer pred ni nan\n",
    "    prediction3 = prediction2[pred_valid,:]\n",
    "    ground3 = ground_tr_2[pred_valid,:];\n",
    "    \n",
    "    prediction1 = prediction3[ground3.nonzero()].flatten() \n",
    "    ground_truth1 = ground3[ground3.nonzero()].flatten()\n",
    "\n",
    "    return sqrt(mean_squared_error(prediction1, ground_truth1))"
   ],
   "metadata": {
    "collapsed": false,
    "pycharm": {
     "name": "#%%\n",
     "is_executing": false
    }
   }
  },
  {
   "cell_type": "code",
   "execution_count": 20,
   "outputs": [
    {
     "name": "stdout",
     "text": [
      "RMSE napaka napovedi:  0.9477294081486036\n"
     ],
     "output_type": "stream"
    }
   ],
   "source": [
    "# Preizkusi in izpisi\n",
    "\n",
    "napaka = rmse(calc3, train_data_4);\n",
    "\n",
    "print(\"RMSE napaka napovedi: \", napaka)"
   ],
   "metadata": {
    "collapsed": false,
    "pycharm": {
     "name": "#%%\n",
     "is_executing": false
    }
   }
  },
  {
   "cell_type": "markdown",
   "source": [
    "#### Vpr 8.\n",
    "Spreminjaj število sorodnih uporabnikov, ki jih upoštevaš pri izračunih napovedi ocen.\n",
    "Kako se pri tem spreminja napaka (opis, podatki ali graf) ? \n",
    "\n"
   ],
   "metadata": {
    "collapsed": false
   }
  },
  {
   "cell_type": "code",
   "execution_count": 21,
   "outputs": [],
   "source": [
    "# Koda\n"
   ],
   "metadata": {
    "collapsed": false,
    "pycharm": {
     "name": "#%%\n",
     "is_executing": false
    }
   }
  },
  {
   "cell_type": "markdown",
   "source": [
    "#### Dodatna naloga 2\n",
    "Izdelaj metodo za izračun napovedi ocen in jo preizkusi z različnimi podatki. \n"
   ],
   "metadata": {
    "collapsed": false
   }
  },
  {
   "cell_type": "code",
   "execution_count": 152,
   "outputs": [],
   "source": [
    "# Metoda naj vrne tabelo napovedanih ocen.\n",
    "\n",
    "def predictRating (rating_data, user_similarity):\n",
    "    \n",
    "    pred_rating = 0;\n",
    "    # Povprecni rating uporabnika\n",
    "    # Povpr rating kot stolpcni vektor\n",
    "    # Razlika rating - povprecje, vsebuje nan\n",
    "    # Relativni ratnig, vsebuje 0 kjer ni ocene\n",
    "    \n",
    "    return pred_rating"
   ],
   "metadata": {
    "collapsed": false,
    "pycharm": {
     "name": "#%%\n",
     "is_executing": false
    }
   }
  },
  {
   "cell_type": "code",
   "source": [
    "# predictRating(train_data_4, user_similarity)\n"
   ],
   "metadata": {
    "collapsed": false,
    "pycharm": {
     "name": "#%%\n",
     "is_executing": false
    }
   },
   "execution_count": 153,
   "outputs": []
  },
  {
   "cell_type": "markdown",
   "source": [
    "#### Dodatna naloga 3\n",
    "Testiraj delovanje sistema (povpr. napaka, čas izračuna), če kot podatke vzameš delno ali kompletno bazo uporabnikov.   \n",
    "\n",
    "\n"
   ],
   "metadata": {
    "collapsed": false
   }
  },
  {
   "cell_type": "code",
   "execution_count": null,
   "outputs": [],
   "source": [
    "\n"
   ],
   "metadata": {
    "collapsed": false,
    "pycharm": {
     "name": "#%%\n"
    }
   }
  }
 ],
 "metadata": {
  "kernelspec": {
   "display_name": "Python 3",
   "language": "python",
   "name": "python3"
  },
  "language_info": {
   "codemirror_mode": {
    "name": "ipython",
    "version": 3
   },
   "file_extension": ".py",
   "mimetype": "text/x-python",
   "name": "python",
   "nbconvert_exporter": "python",
   "pygments_lexer": "ipython3",
   "version": "3.7.4-final"
  },
  "pycharm": {
   "stem_cell": {
    "cell_type": "raw",
    "source": [],
    "metadata": {
     "collapsed": false
    }
   }
  }
 },
 "nbformat": 4,
 "nbformat_minor": 0
}